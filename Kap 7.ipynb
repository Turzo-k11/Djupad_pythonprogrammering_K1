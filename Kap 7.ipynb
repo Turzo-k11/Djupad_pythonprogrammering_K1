{
 "cells": [
  {
   "cell_type": "code",
   "execution_count": null,
   "metadata": {},
   "outputs": [],
   "source": [
    "# A) Jag håller mig till projectens stilguide för att all inom företaget ska kunna läsa. \n",
    "# Diskutera med teamet om ifall vi kan uppdatera stilguiden. Korrigera gradvis ifall det går att inte störa projekt samtidigt. Dokumentara skillnader.\n",
    "# B) Engelska eller det språket som är mest förståligt för teamet.\n",
    "# C) Vi ska göra det läsbar och underhållbar för oss samt de vi arbetar med. Det kan vi göra genom att använda varabler samt funktioner. \n",
    "# D) Vi ska skriva tydligt, undvika förkortningar och prefix samt använda CamelCase. För att göra koden ren och lätt att förstå.\n",
    "# E) Högst upp ifilen samt ordna importerna i grupper. För att hålla koden organiserad.\n",
    "# F) PEP 8 tilllåter båda citationstecken.\n",
    "# G) Allternativ 1 för den är mer läsbar. \n",
    "\n",
    "# 2\n",
    "# A) För att göra koden mer lässbar och underhållbar. För att koden skall vara tydlig och direkt i vad den gör.\n",
    "# B) Att hellre hålla koden simple än komplex. För att göra koden mer läsbar.\n",
    "\n",
    "# 3. Att följa en konventioner och standrader förbättrar koden läsbarhet samt samarbetsmöjigheter. Det gör koden mer effektiv och proffesionellt.\n"
   ]
  },
  {
   "cell_type": "code",
   "execution_count": null,
   "metadata": {},
   "outputs": [],
   "source": []
  },
  {
   "cell_type": "code",
   "execution_count": null,
   "metadata": {},
   "outputs": [],
   "source": []
  },
  {
   "cell_type": "code",
   "execution_count": null,
   "metadata": {},
   "outputs": [],
   "source": []
  },
  {
   "cell_type": "code",
   "execution_count": null,
   "metadata": {},
   "outputs": [],
   "source": []
  }
 ],
 "metadata": {
  "kernelspec": {
   "display_name": ".venv",
   "language": "python",
   "name": "python3"
  },
  "language_info": {
   "name": "python",
   "version": "3.12.3"
  }
 },
 "nbformat": 4,
 "nbformat_minor": 2
}
