{
 "cells": [
  {
   "cell_type": "code",
   "execution_count": null,
   "metadata": {},
   "outputs": [],
   "source": [
    "# 1. För att förbättra kodens kvalitet, underlätta framtida ändringar, dokumnetera samt gör det lättare att förstå och upprätthålla koden. "
   ]
  },
  {
   "cell_type": "code",
   "execution_count": null,
   "metadata": {},
   "outputs": [],
   "source": []
  },
  {
   "cell_type": "code",
   "execution_count": 1,
   "metadata": {},
   "outputs": [],
   "source": [
    "def add_two_small_numbers(num1, num2):\n",
    "    \"\"\"\n",
    "    Add two numbers, but raise an exception if any number is greater than 100.\n",
    "    \n",
    "    >>> add_two_small_numbers(50, 30)\n",
    "    80\n",
    "    >>> add_two_small_numbers(150, 30)\n",
    "    Traceback (most recent call last):\n",
    "        ...\n",
    "    ValueError: Both numbers must be smaller than or equal to 100\n",
    "    \"\"\"\n",
    "    if num1 > 100 or num2 > 100:\n",
    "        raise ValueError(\"Both numbers must be smaller than or equal to 100\")\n",
    "    return num1 + num2\n",
    "\n",
    "if __name__ == \"__main__\":\n",
    "    import doctest\n",
    "    doctest.testmod()\n"
   ]
  }
 ],
 "metadata": {
  "kernelspec": {
   "display_name": ".venv",
   "language": "python",
   "name": "python3"
  },
  "language_info": {
   "codemirror_mode": {
    "name": "ipython",
    "version": 3
   },
   "file_extension": ".py",
   "mimetype": "text/x-python",
   "name": "python",
   "nbconvert_exporter": "python",
   "pygments_lexer": "ipython3",
   "version": "3.12.3"
  }
 },
 "nbformat": 4,
 "nbformat_minor": 2
}
