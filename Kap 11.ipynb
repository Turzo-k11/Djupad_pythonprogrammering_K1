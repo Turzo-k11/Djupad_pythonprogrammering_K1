{
 "cells": [
  {
   "cell_type": "code",
   "execution_count": null,
   "metadata": {},
   "outputs": [],
   "source": [
    "# 1.För att förbättra samt hjälpa företages säkerhet, prestandard och hantera problem på ett effektiv sätt. \n",
    "# 2.Det är olika allvarlighets grad för olika logg-medddelande. Det används för att filtera och priotera det som är mest relevant och kritisk."
   ]
  },
  {
   "cell_type": "code",
   "execution_count": 8,
   "metadata": {},
   "outputs": [
    {
     "name": "stdout",
     "output_type": "stream",
     "text": [
      "Antal ord: 2\n"
     ]
    }
   ],
   "source": [
    "# Program som räknar antalet ord i en given sträng\n",
    "import logging\n",
    "\n",
    "# Konfigurera logging\n",
    "logging.basicConfig(filename='word_count.log', level=logging.INFO,\n",
    "                    format='%(asctime)s - %(levelname)s - %(message)s')\n",
    "\n",
    "def count_words(text):\n",
    "    \"\"\"Räknar antalet ord i en given sträng och loggar resultatet.\"\"\"\n",
    "    words = text.split()\n",
    "    word_count = len(words)\n",
    "    logging.info(f\"Antal ord i strängen: {word_count}\")\n",
    "    return word_count\n",
    "\n",
    "def main():\n",
    "    \"\"\"Huvudprogrammet som ber användaren att ange en sträng och räknar orden.\"\"\"\n",
    "    user_input = input(\"Skriv en mening: \")\n",
    "    logging.info(f\"Användaren angav: {user_input}\")\n",
    "    word_count = count_words(user_input)\n",
    "    print(f\"Antal ord: {word_count}\")\n",
    "\n",
    "if __name__ == \"__main__\":\n",
    "    main()"
   ]
  }
 ],
 "metadata": {
  "kernelspec": {
   "display_name": "Python 3",
   "language": "python",
   "name": "python3"
  },
  "language_info": {
   "codemirror_mode": {
    "name": "ipython",
    "version": 3
   },
   "file_extension": ".py",
   "mimetype": "text/x-python",
   "name": "python",
   "nbconvert_exporter": "python",
   "pygments_lexer": "ipython3",
   "version": "3.12.3"
  }
 },
 "nbformat": 4,
 "nbformat_minor": 2
}
