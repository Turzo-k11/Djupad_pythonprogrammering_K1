{
 "cells": [
  {
   "cell_type": "code",
   "execution_count": 2,
   "metadata": {},
   "outputs": [],
   "source": [
    "# 8\n",
    "# A) Syntaxfel som uppstår när python inte förstår koden.\n",
    "# B) För att kunna hantera fel, tydlig felmeddelande samt felsöka\n",
    "# C) Effektiv hantera fel, behålla felinteformation, undvika dupliceras kod. Det håller koden ren och hanterbar.\n",
    "\n",
    "# 2.\n",
    "# A) Koden försöker konvertera en sträng till ett heltal. Om det lyckas retuneras heltalet. Om det misslyckas retuneras felmeddelande. \n",
    "# B) För att göra koden tydligt och mer strukturead vid hantering av fel. För att göra koden lättläst."
   ]
  },
  {
   "cell_type": "code",
   "execution_count": 11,
   "metadata": {},
   "outputs": [
    {
     "name": "stdout",
     "output_type": "stream",
     "text": [
      "Element at index 2 is 30.\n"
     ]
    }
   ],
   "source": [
    "# 3.\n",
    "def access_list_element():\n",
    "    my_list = [10, 20, 30, 40, 50]  # En lista med 5 element\n",
    "\n",
    "    while True:\n",
    "        try:\n",
    "            # Ange ett index\n",
    "            index = int(input(\"Enter an index (0-4) to access an element from the list: \"))\n",
    "            \n",
    "            # Försök att hämta elementet vid det angivna indexet\n",
    "            element = my_list[index]\n",
    "            print(f\"Element at index {index} is {element}.\")\n",
    "            \n",
    "        except IndexError:\n",
    "            # Hantera fallet där indexet ligger utanför listans gränser\n",
    "            print(\"Error: Index out of range. Please enter a valid index.\")\n",
    "        except ValueError:\n",
    "            # Hantera fallet där inmatningen inte är ett heltal\n",
    "            print(\"Error: Invalid input. Please enter an integer.\")\n",
    "        else:\n",
    "            # Om inga undantag inträffar, bryt loopen\n",
    "            break\n",
    "\n",
    "# Kör funktionen\n",
    "access_list_element()"
   ]
  },
  {
   "cell_type": "code",
   "execution_count": 21,
   "metadata": {},
   "outputs": [
    {
     "name": "stdout",
     "output_type": "stream",
     "text": [
      "80\n",
      "Both numbers must be smaller than or equal to 100\n"
     ]
    }
   ],
   "source": [
    "# 4.\n",
    "def add_two_small_numbers(num1, num2):\n",
    "    # Kontrollera om något av numren är större än 100\n",
    "    if num1 > 100 or num2 > 100:\n",
    "        # Lyfta en undantag med ett felmeddelande\n",
    "        raise ValueError(\"Both numbers must be smaller than or equal to 100\")\n",
    "    \n",
    "    # Returnera summan av de två numren\n",
    "    return num1 + num2\n",
    "\n",
    "# Exempel på användning\n",
    "try:\n",
    "    print(add_two_small_numbers(50, 30))  # Kommer att fungera\n",
    "    print(add_two_small_numbers(150, 30)) # Kommer att lyfta undantag\n",
    "except ValueError as e:\n",
    "    print(e)  # Skriver ut felmeddelandet"
   ]
  },
  {
   "cell_type": "code",
   "execution_count": null,
   "metadata": {},
   "outputs": [],
   "source": [
    "# 5. Kollegan testar sig fram och försöker förstå hur olika typer av undantag hanter i Pyton. \n",
    "# Kollegan testar hur programmet reagerar när den stöter på olika typer av fel."
   ]
  }
 ],
 "metadata": {
  "kernelspec": {
   "display_name": ".venv",
   "language": "python",
   "name": "python3"
  },
  "language_info": {
   "codemirror_mode": {
    "name": "ipython",
    "version": 3
   },
   "file_extension": ".py",
   "mimetype": "text/x-python",
   "name": "python",
   "nbconvert_exporter": "python",
   "pygments_lexer": "ipython3",
   "version": "3.12.3"
  }
 },
 "nbformat": 4,
 "nbformat_minor": 2
}
