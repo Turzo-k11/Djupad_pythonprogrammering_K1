{
 "cells": [
  {
   "cell_type": "code",
   "execution_count": null,
   "metadata": {},
   "outputs": [],
   "source": [
    "# 1.En modul är en python fil som innehåller funktioner, klasser, eller variabler. Genom att använd Import kan kan importera modul i en annan fil.\n"
   ]
  },
  {
   "cell_type": "code",
   "execution_count": 1,
   "metadata": {},
   "outputs": [
    {
     "name": "stdout",
     "output_type": "stream",
     "text": [
      "4.0\n",
      "3.141592653589793\n",
      "120\n"
     ]
    }
   ],
   "source": [
    "# 2.\n",
    "# A) \n",
    "import math\n",
    "\n",
    "# Använd funktioner från math-modulen\n",
    "print(math.sqrt(16))   # Utskrift: 4.0, kvadratroten av 16\n",
    "print(math.pi)         # Utskrift: 3.141592653589793, värdet på pi\n",
    "print(math.factorial(5))  # Utskrift: 120, 5!"
   ]
  },
  {
   "cell_type": "code",
   "execution_count": 4,
   "metadata": {},
   "outputs": [
    {
     "name": "stdout",
     "output_type": "stream",
     "text": [
      "5\n",
      "-3\n",
      "5\n",
      "11\n",
      "10\n"
     ]
    }
   ],
   "source": [
    "# B) Celi används för runda ett tal till det närmaste heltal.\n",
    "import math\n",
    "\n",
    "print(math.ceil(4.2))  # Utskrift: 5\n",
    "print(math.ceil(-3.7)) # Utskrift: -3\n",
    "print(math.ceil(5.0))  # Utskrift: 5\n",
    "\n",
    "# C) 11 och det är närmast heltal som större än 10.2\n",
    "print(math.ceil(10.2))\n",
    "\n",
    "# C) Det rundar uppåt och skriver det närmaste talet \"10\" som är större.\n",
    "print(math.ceil(9.8))\n",
    "\n"
   ]
  }
 ],
 "metadata": {
  "kernelspec": {
   "display_name": ".venv",
   "language": "python",
   "name": "python3"
  },
  "language_info": {
   "codemirror_mode": {
    "name": "ipython",
    "version": 3
   },
   "file_extension": ".py",
   "mimetype": "text/x-python",
   "name": "python",
   "nbconvert_exporter": "python",
   "pygments_lexer": "ipython3",
   "version": "3.12.3"
  }
 },
 "nbformat": 4,
 "nbformat_minor": 2
}
