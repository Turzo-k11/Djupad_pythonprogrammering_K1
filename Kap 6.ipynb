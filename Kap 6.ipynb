{
 "cells": [
  {
   "cell_type": "markdown",
   "id": "5934e881-e6e0-44fe-ae59-e7ea23a23c2a",
   "metadata": {},
   "source": [
    "# Uppgifter, Kapitel 6 - Klasser"
   ]
  },
  {
   "cell_type": "markdown",
   "id": "2ad510ef-639a-4733-8b8e-b2801a07c795",
   "metadata": {},
   "source": [
    "1. Kolla vilka klasser variablerna a, b, c, och d tillhör genom att använda type() funktionen.\n",
    "   Notera att vi i variablen d har sparat en funktion. Vi hade kunnat anropa den genom att till exempel skriva d(2). "
   ]
  },
  {
   "cell_type": "code",
   "execution_count": 2,
   "id": "7cfed4fc-fbe2-49c4-bb84-f3917ba4248d",
   "metadata": {},
   "outputs": [],
   "source": [
    "a = 10 \n",
    "b = [5, 7, 3] \n",
    "c = {2, 7, 1, 8, 2, 8}\n",
    "\n",
    "def my_fun(x):\n",
    "    return 2*2\n",
    "\n",
    "d = my_fun"
   ]
  },
  {
   "cell_type": "code",
   "execution_count": 3,
   "id": "289e3834-bb81-4850-a6c3-1d6bf54e8b69",
   "metadata": {},
   "outputs": [
    {
     "name": "stdout",
     "output_type": "stream",
     "text": [
      "<class 'int'>\n",
      "<class 'list'>\n",
      "<class 'set'>\n",
      "<class 'function'>\n"
     ]
    }
   ],
   "source": [
    "print(type(a))  # Typen av a\n",
    "print(type(b))  # Typen av b\n",
    "print(type(c))  # Typen av c\n",
    "print(type(d))  # Typen av d"
   ]
  },
  {
   "cell_type": "markdown",
   "id": "56c2e99e-6a41-43c9-8ea3-e002834187c5",
   "metadata": {},
   "source": [
    "2. a) Kolla om variablen \"my_variable\" är en instans av \"tuple\" klassen genom att använda isinstance() funktionen.\n",
    "   \n",
    "   b) Kolla om variablen \"my_variable\" är en instans av \"list\" klassen genom att använda isinstance() funktionen."
   ]
  },
  {
   "cell_type": "code",
   "execution_count": 10,
   "id": "53dce717-b6ce-4288-8bc2-785184f17d01",
   "metadata": {},
   "outputs": [],
   "source": [
    "my_variable = (1, 1, 2, 3, 5)"
   ]
  },
  {
   "cell_type": "code",
   "execution_count": 11,
   "id": "904943c7-6cd5-4d8c-9ae5-57fa3d6460c6",
   "metadata": {},
   "outputs": [
    {
     "name": "stdout",
     "output_type": "stream",
     "text": [
      "my_variable är en instans av tuple: True\n",
      "my_variable är en instans av list: False\n"
     ]
    }
   ],
   "source": [
    "# a) Kontrollera om my_variable är en instans av tuple\n",
    "is_tuple = isinstance(my_variable, tuple)\n",
    "print(f\"my_variable är en instans av tuple: {is_tuple}\")\n",
    "\n",
    "# b) Kontrollera om my_variable är en instans av list\n",
    "is_list = isinstance(my_variable, list)\n",
    "print(f\"my_variable är en instans av list: {is_list}\")"
   ]
  },
  {
   "cell_type": "markdown",
   "id": "64fa3651-1d96-4181-9e2a-b2134365a398",
   "metadata": {},
   "source": [
    "3. I denna uppgiften skall du göra följande:\n",
    " \n",
    "   a) Skapa en klass som heter \"FruitProduct\" som har en docstring där det står \"A class representing fruit products in a grocery store.\".\n",
    "   \n",
    "   b) Klassen skall ha instans-attributen \"price\" och \"quantity\". Detta gör du i samband med _\\_\\_init_\\__() .\n",
    "   \n",
    "   c) Instantiera klassen och spara instansen i variablen \"swedish_apples\". Dess pris skall vara 52 och dess kvantitet 1. Det är underförstått att vi menar kronor respektive kg. \n",
    "   \n",
    "   d) Printa ut klassens docstring genom att använda dig av _\\_\\_doc_\\_\\_.\n",
    "   \n",
    "   e) Printa ut attributen från \"swedish_apples\" instansen.\n",
    "   \n",
    "   f) Kolla vilken klass instansen \"swedish_apples\" tillhör genom att använda type() metoden.\n",
    "   \n",
    "   g) Kolla om \"swedish_apples\" tillhör klassen \"FruitProduct\" genom att använda isinstance() metoden."
   ]
  },
  {
   "cell_type": "code",
   "execution_count": 12,
   "id": "d8c93a19-63da-4790-ab0f-24be338d192b",
   "metadata": {},
   "outputs": [
    {
     "name": "stdout",
     "output_type": "stream",
     "text": [
      "A class representing fruit products in a grocery store.\n",
      "Price: 52\n",
      "Quantity: 1\n",
      "<class '__main__.FruitProduct'>\n",
      "True\n"
     ]
    }
   ],
   "source": [
    "class FruitProduct:\n",
    "    \"\"\"A class representing fruit products in a grocery store.\"\"\"\n",
    "    \n",
    "    def __init__(self, price, quantity):\n",
    "        self.price = price\n",
    "        self.quantity = quantity\n",
    "\n",
    "# c) Skapa instans\n",
    "swedish_apples = FruitProduct(price=52, quantity=1)\n",
    "\n",
    "# d) Print ut docstring\n",
    "print(FruitProduct.__doc__)\n",
    "\n",
    "# e) Print ut attributen\n",
    "print(f\"Price: {swedish_apples.price}\")\n",
    "print(f\"Quantity: {swedish_apples.quantity}\")\n",
    "\n",
    "# f) Kontrollera klass\n",
    "print(type(swedish_apples))\n",
    "\n",
    "# g) Kontrollera om instans tillhör klassen\n",
    "print(isinstance(swedish_apples, FruitProduct))\n"
   ]
  },
  {
   "cell_type": "markdown",
   "id": "accc0d0d-2246-43a6-afaf-b5b1c42b1ab6",
   "metadata": {},
   "source": [
    "4. Skapa en klass \"Square\" vars instanser har attributet \"side_length\". Skapa två metoder, \"perimeter()\" och \"area()\" där metoderna beräknar omkretsen respektive arean givet längden på kvadraternas sidor som finns i attributet \"side_length\". Skapa en instans \"my_square\" med sidlängden 8. Beräkna omkretsen och arean av \"my_square\" genom att använda de två metoderna som du har skapat. "
   ]
  },
  {
   "cell_type": "code",
   "execution_count": 13,
   "id": "69074342-0042-459b-893b-157d0f1fe6de",
   "metadata": {},
   "outputs": [],
   "source": [
    "class Square:\n",
    "    def __init__(self, side_length):\n",
    "        self.side_length = side_length\n",
    "    \n",
    "    def perimeter(self):\n",
    "        # Beräknar omkretsen av kvadraten\n",
    "        return 4 * self.side_length\n",
    "    \n",
    "    def area(self):\n",
    "        # Beräknar arean av kvadraten\n",
    "        return self.side_length ** 2\n"
   ]
  },
  {
   "cell_type": "code",
   "execution_count": 14,
   "id": "4ed1ecbc",
   "metadata": {},
   "outputs": [
    {
     "name": "stdout",
     "output_type": "stream",
     "text": [
      "Omkretsen av kvadraten är: 32\n",
      "Arean av kvadraten är: 64\n"
     ]
    }
   ],
   "source": [
    "# Skapa en instans av Square med sidlängden 8\n",
    "my_square = Square(side_length=8)\n",
    "\n",
    "# Beräkna omkrets och area\n",
    "square_perimeter = my_square.perimeter()\n",
    "square_area = my_square.area()\n",
    "\n",
    "# Skriv ut resultaten\n",
    "print(f\"Omkretsen av kvadraten är: {square_perimeter}\")\n",
    "print(f\"Arean av kvadraten är: {square_area}\")\n"
   ]
  },
  {
   "cell_type": "markdown",
   "id": "1fccc14a-5c59-46b0-900b-ee17b8638c84",
   "metadata": {},
   "source": [
    "5. a) Förklara vad nedanstående kod gör.\n",
    "   \n",
    "   b) Prova ändra variabeln L i koden nedan till en tuple och se vad som sker när du kör om all kod. "
   ]
  },
  {
   "cell_type": "code",
   "execution_count": 21,
   "id": "78dafba1-8370-403b-a3e5-abf3e246c0c8",
   "metadata": {},
   "outputs": [],
   "source": [
    "class DescriptiveStatistics():\n",
    "    \"\"\"This class provides functionality for calculating descriptive statistics from a list.\"\"\"\n",
    "    \n",
    "    def __init__(self):\n",
    "        self.data = []\n",
    "    \n",
    "    def add_data(self, data):\n",
    "        if isinstance(data, list):\n",
    "            self.data.extend(data)\n",
    "        else:\n",
    "            # Code below raises an error if the data is not a list. Will be covered in chapter 8 of the book. \n",
    "            raise Exception('Only \"Lists\" are accepted as data.')  \n",
    "            \n",
    "    def calc_sum(self):\n",
    "        return sum(self.data)\n",
    "    \n",
    "    def calc_nbr_of_elements(self):\n",
    "        return len(self.data)\n",
    "    \n",
    "    def calc_mean(self):\n",
    "        return (self.calc_sum())/(self.calc_nbr_of_elements())\n",
    "    \n",
    "    def print_summary(self):\n",
    "        print('Sum:', self.calc_sum())\n",
    "        print('Number of elements:', self.calc_nbr_of_elements())\n",
    "        print('Mean:', self.calc_mean())  "
   ]
  },
  {
   "cell_type": "code",
   "execution_count": 16,
   "id": "0ca8bbdd-fae5-49eb-b7ac-e1097d21be32",
   "metadata": {},
   "outputs": [],
   "source": [
    "L = [1, 2, 1, 3, 5, 7, 4, 9, 10, 3, 2, 1, 6, 4, 3, 2, 1, 10, 9, 1, 8, 7, 3, 2, 1]\n",
    "my_data = DescriptiveStatistics()\n",
    "my_data.add_data(L)"
   ]
  },
  {
   "cell_type": "code",
   "execution_count": 17,
   "id": "bae2fd7d-7a65-4043-999f-dce227334d38",
   "metadata": {},
   "outputs": [
    {
     "data": {
      "text/plain": [
       "[1, 2, 1, 3, 5, 7, 4, 9, 10, 3, 2, 1, 6, 4, 3, 2, 1, 10, 9, 1, 8, 7, 3, 2, 1]"
      ]
     },
     "execution_count": 17,
     "metadata": {},
     "output_type": "execute_result"
    }
   ],
   "source": [
    "my_data.data"
   ]
  },
  {
   "cell_type": "code",
   "execution_count": 18,
   "id": "39c2015b-65d9-4c48-ad0d-edb01a192280",
   "metadata": {},
   "outputs": [
    {
     "name": "stdout",
     "output_type": "stream",
     "text": [
      "Sum: 105\n",
      "Number of elements: 25\n",
      "Mean: 4.2\n"
     ]
    }
   ],
   "source": [
    "print('Sum:', my_data.calc_sum())\n",
    "print('Number of elements:', my_data.calc_nbr_of_elements())\n",
    "print('Mean:', my_data.calc_mean())"
   ]
  },
  {
   "cell_type": "code",
   "execution_count": null,
   "id": "e438a49d-04c1-45e1-8632-52bca24e8b31",
   "metadata": {},
   "outputs": [],
   "source": [
    "my_data.print_summary()"
   ]
  },
  {
   "cell_type": "code",
   "execution_count": null,
   "id": "ab1e14a2",
   "metadata": {},
   "outputs": [],
   "source": [
    "# a) Koden definierar en class som lagrar en lista med siffror och beräknar olika statiska mått som summa, antal element och medelvärde.\n",
    "#    Som sedan skapar en instans av klassen och lägger till en lista med siffror och skriver ut resultate. "
   ]
  },
  {
   "cell_type": "code",
   "execution_count": 24,
   "id": "a48a2a08",
   "metadata": {},
   "outputs": [
    {
     "ename": "Exception",
     "evalue": "Only \"Lists\" are accepted as data.",
     "output_type": "error",
     "traceback": [
      "\u001b[1;31m---------------------------------------------------------------------------\u001b[0m",
      "\u001b[1;31mException\u001b[0m                                 Traceback (most recent call last)",
      "Cell \u001b[1;32mIn[24], line 4\u001b[0m\n\u001b[0;32m      2\u001b[0m L \u001b[38;5;241m=\u001b[39m (\u001b[38;5;241m1\u001b[39m, \u001b[38;5;241m2\u001b[39m, \u001b[38;5;241m1\u001b[39m, \u001b[38;5;241m3\u001b[39m, \u001b[38;5;241m5\u001b[39m, \u001b[38;5;241m7\u001b[39m, \u001b[38;5;241m4\u001b[39m, \u001b[38;5;241m9\u001b[39m, \u001b[38;5;241m10\u001b[39m, \u001b[38;5;241m3\u001b[39m, \u001b[38;5;241m2\u001b[39m, \u001b[38;5;241m1\u001b[39m, \u001b[38;5;241m6\u001b[39m, \u001b[38;5;241m4\u001b[39m, \u001b[38;5;241m3\u001b[39m, \u001b[38;5;241m2\u001b[39m, \u001b[38;5;241m1\u001b[39m, \u001b[38;5;241m10\u001b[39m, \u001b[38;5;241m9\u001b[39m, \u001b[38;5;241m1\u001b[39m, \u001b[38;5;241m8\u001b[39m, \u001b[38;5;241m7\u001b[39m, \u001b[38;5;241m3\u001b[39m, \u001b[38;5;241m2\u001b[39m, \u001b[38;5;241m1\u001b[39m)\n\u001b[0;32m      3\u001b[0m my_data \u001b[38;5;241m=\u001b[39m DescriptiveStatistics()\n\u001b[1;32m----> 4\u001b[0m \u001b[43mmy_data\u001b[49m\u001b[38;5;241;43m.\u001b[39;49m\u001b[43madd_data\u001b[49m\u001b[43m(\u001b[49m\u001b[43mL\u001b[49m\u001b[43m)\u001b[49m  \n\u001b[0;32m      5\u001b[0m \u001b[38;5;28mprint\u001b[39m(\u001b[38;5;124m'\u001b[39m\u001b[38;5;124mSum:\u001b[39m\u001b[38;5;124m'\u001b[39m, my_data\u001b[38;5;241m.\u001b[39mcalc_sum())\n\u001b[0;32m      6\u001b[0m \u001b[38;5;28mprint\u001b[39m(\u001b[38;5;124m'\u001b[39m\u001b[38;5;124mNumber of elements:\u001b[39m\u001b[38;5;124m'\u001b[39m, my_data\u001b[38;5;241m.\u001b[39mcalc_nbr_of_elements())\n",
      "Cell \u001b[1;32mIn[21], line 12\u001b[0m, in \u001b[0;36mDescriptiveStatistics.add_data\u001b[1;34m(self, data)\u001b[0m\n\u001b[0;32m      9\u001b[0m     \u001b[38;5;28mself\u001b[39m\u001b[38;5;241m.\u001b[39mdata\u001b[38;5;241m.\u001b[39mextend(data)\n\u001b[0;32m     10\u001b[0m \u001b[38;5;28;01melse\u001b[39;00m:\n\u001b[0;32m     11\u001b[0m     \u001b[38;5;66;03m# Code below raises an error if the data is not a list. Will be covered in chapter 8 of the book. \u001b[39;00m\n\u001b[1;32m---> 12\u001b[0m     \u001b[38;5;28;01mraise\u001b[39;00m \u001b[38;5;167;01mException\u001b[39;00m(\u001b[38;5;124m'\u001b[39m\u001b[38;5;124mOnly \u001b[39m\u001b[38;5;124m\"\u001b[39m\u001b[38;5;124mLists\u001b[39m\u001b[38;5;124m\"\u001b[39m\u001b[38;5;124m are accepted as data.\u001b[39m\u001b[38;5;124m'\u001b[39m)\n",
      "\u001b[1;31mException\u001b[0m: Only \"Lists\" are accepted as data."
     ]
    }
   ],
   "source": [
    "#  B) Felet uppstår eftersom vi kontrollerar bara ifall data är en instans av list och tuple är inte en lista.\n",
    "L = (1, 2, 1, 3, 5, 7, 4, 9, 10, 3, 2, 1, 6, 4, 3, 2, 1, 10, 9, 1, 8, 7, 3, 2, 1)\n",
    "my_data = DescriptiveStatistics()\n",
    "my_data.add_data(L)  \n",
    "print('Sum:', my_data.calc_sum())\n",
    "print('Number of elements:', my_data.calc_nbr_of_elements())\n",
    "print('Mean:', my_data.calc_mean())\n",
    "my_data.print_summary()\n"
   ]
  },
  {
   "cell_type": "markdown",
   "id": "27871179-b49f-41ab-b5ed-ddc6275d083f",
   "metadata": {},
   "source": [
    "6. a) Skapa en klass som heter BankAccount. Klassen skall ha attributet \"account_holder\" som visar kontoinnehavarens namn samt attributet \"balance\" som visar kontoinnehavarens balans. Klassen skall ha metoden \"deposit()\" för att kunna sätta in pengar på kontot samt metoden \"withdraw()\" för att kunna ta ut pengar från kontot. Om bankinnehavaren försöker ta ut mer pengar än vad som finns på kontot skall meddelandet \"Too low balance\" printas ut.\n",
    "   \n",
    "   b) Skapa en instans av klassen och testa så klassen funkar så som du förväntar dig. Du kan till exempel prova printa ut attributen, sätta in pengar och ta ut pengar. "
   ]
  },
  {
   "cell_type": "code",
   "execution_count": 26,
   "id": "d1062a2c-7c92-45e4-8d33-d428ab2537e6",
   "metadata": {},
   "outputs": [],
   "source": [
    "# a)\n",
    "class BankAccount:\n",
    "    \"\"\"A class representing a bank account with deposit and withdrawal capabilities.\"\"\"\n",
    "\n",
    "    def __init__(self, account_holder, balance=0):\n",
    "        self.account_holder = account_holder\n",
    "        self.balance = balance\n",
    "\n",
    "    def deposit(self, amount):\n",
    "        \"\"\"Deposit money into the account.\"\"\"\n",
    "        if amount > 0:\n",
    "            self.balance += amount\n",
    "            print(f\"Deposited {amount}. New balance: {self.balance}\")\n",
    "        else:\n",
    "            print(\"Deposit amount must be positive.\")\n",
    "\n",
    "    def withdraw(self, amount):\n",
    "        \"\"\"Withdraw money from the account.\"\"\"\n",
    "        if amount > self.balance:\n",
    "            print(\"Too low balance\")\n",
    "        elif amount > 0:\n",
    "            self.balance -= amount\n",
    "            print(f\"Withdrew {amount}. New balance: {self.balance}\")\n",
    "        else:\n",
    "            print(\"Withdrawal amount must be positive.\")\n",
    "\n",
    "    def get_balance(self):\n",
    "        \"\"\"Return the current balance.\"\"\"\n",
    "        return self.balance\n"
   ]
  },
  {
   "cell_type": "code",
   "execution_count": 27,
   "id": "f2971739",
   "metadata": {},
   "outputs": [
    {
     "name": "stdout",
     "output_type": "stream",
     "text": [
      "Account Holder: Alice\n",
      "Initial Balance: 1000\n",
      "Deposited 500. New balance: 1500\n",
      "Withdrew 200. New balance: 1300\n",
      "Too low balance\n",
      "Withdrawal amount must be positive.\n",
      "Final Balance: 1300\n"
     ]
    }
   ],
   "source": [
    "# b)\n",
    "# Skapa en instans av BankAccount\n",
    "my_account = BankAccount(\"Alice\", 1000)\n",
    "\n",
    "# Skriv ut initiala attribut\n",
    "print(f\"Account Holder: {my_account.account_holder}\")\n",
    "print(f\"Initial Balance: {my_account.get_balance()}\")\n",
    "\n",
    "# Sätt in pengar\n",
    "my_account.deposit(500)  # Bör skriva ut: Deposited 500. New balance: 1500\n",
    "\n",
    "# Ta ut pengar\n",
    "my_account.withdraw(200)  # Bör skriva ut: Withdrew 200. New balance: 1300\n",
    "\n",
    "# Försök ta ut mer än balansen\n",
    "my_account.withdraw(1500)  # Bör skriva ut: Too low balance\n",
    "\n",
    "# Försök ta ut negativa belopp\n",
    "my_account.withdraw(-100)  # Bör skriva ut: Withdrawal amount must be positive\n",
    "\n",
    "# Skriv ut slutlig balans\n",
    "print(f\"Final Balance: {my_account.get_balance()}\")  # Bör skriva ut: Final Balance: 1300"
   ]
  },
  {
   "cell_type": "markdown",
   "id": "f7383657-a3db-47eb-9263-b4be45de3409",
   "metadata": {},
   "source": [
    "7. Din kollega Adrian frågar dig, vad är klasser för något? Försök förklara detta för Adrian. Använd begreppen instanser, attribut samt metoder i din förklaring. "
   ]
  },
  {
   "cell_type": "code",
   "execution_count": null,
   "id": "0a452510-c293-4282-81eb-48db0a5ea4c6",
   "metadata": {},
   "outputs": [],
   "source": [
    "# En klass är en mall för ett object vi har skapat. En instanse är en konkret exempel på en klass. \n",
    "# Attribut är egenskaperna som beskriver en instans. Metod är funktioner som defineras inom en klass och beskriver vad objekten av klassen kan göra"
   ]
  }
 ],
 "metadata": {
  "kernelspec": {
   "display_name": "Python 3 (ipykernel)",
   "language": "python",
   "name": "python3"
  },
  "language_info": {
   "codemirror_mode": {
    "name": "ipython",
    "version": 3
   },
   "file_extension": ".py",
   "mimetype": "text/x-python",
   "name": "python",
   "nbconvert_exporter": "python",
   "pygments_lexer": "ipython3",
   "version": "3.12.3"
  }
 },
 "nbformat": 4,
 "nbformat_minor": 5
}
